{
 "cells": [
  {
   "cell_type": "markdown",
   "id": "cff8969b",
   "metadata": {},
   "source": [
    "Bitwise Operations on Binary Images"
   ]
  },
  {
   "cell_type": "code",
   "execution_count": 1,
   "id": "a8a28b5f",
   "metadata": {},
   "outputs": [],
   "source": [
    "import numpy as np\n",
    "import cv2"
   ]
  },
  {
   "cell_type": "code",
   "execution_count": 2,
   "id": "cb632211",
   "metadata": {},
   "outputs": [],
   "source": [
    "one = np.zeros((512, 512, 3), dtype='uint8')\n",
    "two = np.zeros((512, 512, 3), dtype='uint8')\n",
    "one = cv2.rectangle(one, (100,200), (300,400),(255,255,255), -1)\n",
    "two = cv2.rectangle(two, (100,200), (350,450),(255,255,255), -1)"
   ]
  },
  {
   "cell_type": "code",
   "execution_count": 3,
   "id": "c461499c",
   "metadata": {},
   "outputs": [],
   "source": [
    "bit_and = cv2.bitwise_and(two ,one)\n",
    "bit_not = cv2.bitwise_not(two, one)\n",
    "bit_or = cv2.bitwise_or(two, one)\n",
    "bit_xor = cv2.bitwise_xor(two, one)"
   ]
  },
  {
   "cell_type": "code",
   "execution_count": 4,
   "id": "8391eafb",
   "metadata": {},
   "outputs": [
    {
     "data": {
      "text/plain": [
       "-1"
      ]
     },
     "execution_count": 4,
     "metadata": {},
     "output_type": "execute_result"
    }
   ],
   "source": [
    "cv2.imshow('one', one)\n",
    "cv2.imshow('two', two)\n",
    "cv2.imshow('and', bit_and)\n",
    "cv2.imshow('or', bit_or)\n",
    "cv2.imshow('not', bit_not)\n",
    "cv2.imshow('xor', bit_xor)\n",
    "cv2.waitKey(0)\n",
    "cv2.destroyAllWindows()\n",
    "cv2.waitKey(1)"
   ]
  }
 ],
 "metadata": {
  "kernelspec": {
   "display_name": "Python 3 (ipykernel)",
   "language": "python",
   "name": "python3"
  },
  "language_info": {
   "codemirror_mode": {
    "name": "ipython",
    "version": 3
   },
   "file_extension": ".py",
   "mimetype": "text/x-python",
   "name": "python",
   "nbconvert_exporter": "python",
   "pygments_lexer": "ipython3",
   "version": "3.8.15"
  }
 },
 "nbformat": 4,
 "nbformat_minor": 5
}
