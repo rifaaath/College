{
 "cells": [
  {
   "cell_type": "markdown",
   "id": "7585e4f9",
   "metadata": {},
   "source": [
    "Draw geometric shapes on images using OpenCV"
   ]
  },
  {
   "cell_type": "code",
   "execution_count": 1,
   "id": "cee20052",
   "metadata": {},
   "outputs": [],
   "source": [
    "import numpy as np\n",
    "import cv2"
   ]
  },
  {
   "cell_type": "code",
   "execution_count": 2,
   "id": "a2d67b02",
   "metadata": {},
   "outputs": [],
   "source": [
    "img = np.zeros((512, 512, 3), dtype='uint8')"
   ]
  },
  {
   "cell_type": "code",
   "execution_count": 7,
   "id": "da42f7f6",
   "metadata": {},
   "outputs": [],
   "source": [
    "img = cv2.line(img, (0,0), (100, 200), (255, 255, 255), 4)\n",
    "img = cv2.arrowedLine(img, (100,100), (100, 200), (255, 255, 255), 4)\n",
    "img = cv2.ellipse(img, (100,100), (100,100), 30, 0 , 360, (255, 255, 255), -1)\n",
    "img = cv2.circle(img, (200, 200), 30, (0,255,255), 2)\n",
    "img = cv2.rectangle(img, (0,0), (100, 200), (255, 255, 255), 4)\n",
    "img = cv2.putText(img, \"HELLO\", (100, 200), cv2.FONT_HERSHEY_COMPLEX, 3, (1,150,255))"
   ]
  },
  {
   "cell_type": "code",
   "execution_count": 8,
   "id": "e286fa86",
   "metadata": {},
   "outputs": [
    {
     "data": {
      "text/plain": [
       "-1"
      ]
     },
     "execution_count": 8,
     "metadata": {},
     "output_type": "execute_result"
    }
   ],
   "source": [
    "cv2.imshow('shapes', img)\n",
    "\n",
    "cv2.waitKey(0)\n",
    "cv2.destroyAllWindows()\n",
    "cv2.waitKey(1)"
   ]
  }
 ],
 "metadata": {
  "kernelspec": {
   "display_name": "Python 3 (ipykernel)",
   "language": "python",
   "name": "python3"
  },
  "language_info": {
   "codemirror_mode": {
    "name": "ipython",
    "version": 3
   },
   "file_extension": ".py",
   "mimetype": "text/x-python",
   "name": "python",
   "nbconvert_exporter": "python",
   "pygments_lexer": "ipython3",
   "version": "3.8.15"
  }
 },
 "nbformat": 4,
 "nbformat_minor": 5
}
