{
 "cells": [
  {
   "cell_type": "markdown",
   "id": "e8253f08",
   "metadata": {},
   "source": [
    "Morphological operations based on OpenCV"
   ]
  },
  {
   "cell_type": "code",
   "execution_count": 1,
   "id": "7649eeb7",
   "metadata": {},
   "outputs": [],
   "source": [
    "import cv2\n",
    "import numpy as np"
   ]
  },
  {
   "cell_type": "code",
   "execution_count": 2,
   "id": "d9235b3c",
   "metadata": {},
   "outputs": [],
   "source": [
    "img = np.zeros((512, 512, 3), dtype='uint8')\n",
    "img = cv2.putText(img, 'OPENCV', (0,100), cv2.FONT_HERSHEY_COMPLEX, 5, (255, 255, 255), cv2.LINE_AA)"
   ]
  },
  {
   "cell_type": "code",
   "execution_count": 3,
   "id": "5ff59c0e",
   "metadata": {},
   "outputs": [],
   "source": [
    "kernel = np.ones((5, 5), dtype='uint8')"
   ]
  },
  {
   "cell_type": "code",
   "execution_count": 4,
   "id": "a0d40749",
   "metadata": {},
   "outputs": [],
   "source": [
    "ero = cv2.erode(img, kernel)\n",
    "dil = cv2.dilate(img, kernel)\n",
    "ope = cv2.morphologyEx(img, cv2.MORPH_OPEN, kernel)\n",
    "clo = cv2.morphologyEx(img, cv2.MORPH_CLOSE, kernel)\n",
    "gra = cv2.morphologyEx(img, cv2.MORPH_GRADIENT, kernel)"
   ]
  },
  {
   "cell_type": "code",
   "execution_count": 5,
   "id": "ef0c8d87",
   "metadata": {},
   "outputs": [
    {
     "data": {
      "text/plain": [
       "-1"
      ]
     },
     "execution_count": 5,
     "metadata": {},
     "output_type": "execute_result"
    }
   ],
   "source": [
    "cv2.imshow('Org', img)\n",
    "cv2.imshow('Erosion', ero)\n",
    "cv2.imshow('Dilation', dil)\n",
    "cv2.imshow('Opening', ope)\n",
    "cv2.imshow('Closing', clo)\n",
    "cv2.imshow('Gradient', gra)\n",
    "cv2.waitKey(0)\n",
    "\n",
    "cv2.destroyAllWindows()\n",
    "cv2.waitKey(1)"
   ]
  },
  {
   "cell_type": "code",
   "execution_count": null,
   "id": "96a34a15",
   "metadata": {},
   "outputs": [],
   "source": []
  }
 ],
 "metadata": {
  "kernelspec": {
   "display_name": "Python 3 (ipykernel)",
   "language": "python",
   "name": "python3"
  },
  "language_info": {
   "codemirror_mode": {
    "name": "ipython",
    "version": 3
   },
   "file_extension": ".py",
   "mimetype": "text/x-python",
   "name": "python",
   "nbconvert_exporter": "python",
   "pygments_lexer": "ipython3",
   "version": "3.8.15"
  }
 },
 "nbformat": 4,
 "nbformat_minor": 5
}
