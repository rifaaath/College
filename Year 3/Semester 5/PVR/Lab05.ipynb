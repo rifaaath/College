{
 "cells": [
  {
   "cell_type": "markdown",
   "id": "05ea3563",
   "metadata": {},
   "source": [
    "Thresholding, Edge detection and Contour detection\n"
   ]
  },
  {
   "cell_type": "code",
   "execution_count": 1,
   "id": "b0fd270c",
   "metadata": {},
   "outputs": [],
   "source": [
    "import cv2\n",
    "import numpy as np"
   ]
  },
  {
   "cell_type": "code",
   "execution_count": 2,
   "id": "9076d7fc",
   "metadata": {},
   "outputs": [],
   "source": [
    "img = cv2.imread('tomato.jpg', 0)"
   ]
  },
  {
   "cell_type": "code",
   "execution_count": 3,
   "id": "ea625b06",
   "metadata": {},
   "outputs": [],
   "source": [
    "ret, t1 = cv2.threshold(img, 120, 255, cv2.THRESH_BINARY)\n",
    "ret, t2 = cv2.threshold(img, 120, 255, cv2.THRESH_BINARY_INV)\n",
    "ret, t3 = cv2.threshold(img, 120, 255, cv2.THRESH_TRUNC)\n",
    "ret, t4 = cv2.threshold(img, 120, 255, cv2.THRESH_TOZERO)\n",
    "ret, t5 = cv2.threshold(img, 120, 255, cv2.THRESH_TOZERO_INV)\n",
    "blur = cv2.GaussianBlur(t1, (3, 3), 0)\n",
    "edge = cv2.Canny(blur, 10 , 100)"
   ]
  },
  {
   "cell_type": "code",
   "execution_count": 4,
   "id": "40d6aa65",
   "metadata": {},
   "outputs": [],
   "source": [
    "cv2.imshow('Original', img)\n",
    "cv2.imshow('Binary Threshold', t1) \n",
    "cv2.imshow('Binary Threshold Inverted', t2) \n",
    "cv2.imshow('Truncated Threshold', t3) \n",
    "cv2.imshow('Set to 0', t4)\n",
    "cv2.imshow('Set to 0 Inverted', t5)\n",
    "cv2.imshow('Edged image', edge)"
   ]
  },
  {
   "cell_type": "code",
   "execution_count": 5,
   "id": "b1fab4ec",
   "metadata": {},
   "outputs": [
    {
     "name": "stdout",
     "output_type": "stream",
     "text": [
      "Num of contours =  1448\n"
     ]
    }
   ],
   "source": [
    "contour, hier = cv2.findContours(edge, cv2.RETR_EXTERNAL, cv2.CHAIN_APPROX_NONE)\n",
    "print(\"Num of contours = \", len(contour))"
   ]
  },
  {
   "cell_type": "code",
   "execution_count": 6,
   "id": "9286a598",
   "metadata": {},
   "outputs": [
    {
     "data": {
      "text/plain": [
       "-1"
      ]
     },
     "execution_count": 6,
     "metadata": {},
     "output_type": "execute_result"
    }
   ],
   "source": [
    "cv2.drawContours(img, contour, -1, (255, 255, 255))\n",
    "cv2.imshow('Contours', img)\n",
    "cv2.waitKey(0)\n",
    "\n",
    "cv2.destroyAllWindows()\n",
    "cv2.waitKey(1)"
   ]
  }
 ],
 "metadata": {
  "kernelspec": {
   "display_name": "Python 3 (ipykernel)",
   "language": "python",
   "name": "python3"
  },
  "language_info": {
   "codemirror_mode": {
    "name": "ipython",
    "version": 3
   },
   "file_extension": ".py",
   "mimetype": "text/x-python",
   "name": "python",
   "nbconvert_exporter": "python",
   "pygments_lexer": "ipython3",
   "version": "3.8.15"
  }
 },
 "nbformat": 4,
 "nbformat_minor": 5
}
