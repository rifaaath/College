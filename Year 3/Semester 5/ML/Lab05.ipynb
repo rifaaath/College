{
 "cells": [
  {
   "attachments": {},
   "cell_type": "markdown",
   "id": "2ae15ece",
   "metadata": {},
   "source": [
    "5. Demonstrate the use of pipelines using any two algorithms on the given dataset and calculate the accuracy metric"
   ]
  },
  {
   "cell_type": "code",
   "execution_count": 1,
   "id": "c490b8b6",
   "metadata": {},
   "outputs": [],
   "source": [
    "from sklearn.datasets import load_iris\n",
    "df = load_iris()"
   ]
  },
  {
   "cell_type": "code",
   "execution_count": 3,
   "id": "61a91dea",
   "metadata": {},
   "outputs": [],
   "source": [
    "from sklearn.model_selection import train_test_split\n",
    "x_train, x_test, y_train, y_test = train_test_split(df.data, df.target, test_size=0.2)"
   ]
  },
  {
   "cell_type": "code",
   "execution_count": 12,
   "id": "5b8ca5a9",
   "metadata": {},
   "outputs": [],
   "source": [
    "from sklearn.pipeline import Pipeline\n",
    "from sklearn.preprocessing import StandardScaler\n",
    "from sklearn.decomposition import PCA\n",
    "from sklearn.neighbors import KNeighborsClassifier\n",
    "from sklearn.tree import DecisionTreeClassifier\n",
    "knn_pipe = Pipeline([('scalar1', StandardScaler()),\n",
    "                     ('pca1', PCA(n_components=2)),\n",
    "                     ('knn', KNeighborsClassifier()),\n",
    "                    ])\n",
    "dt_pipe = Pipeline([('scalar2', StandardScaler()),\n",
    "                     ('pca2', PCA(n_components=2)),\n",
    "                     ('dt', DecisionTreeClassifier()),\n",
    "                    ])"
   ]
  },
  {
   "cell_type": "code",
   "execution_count": 13,
   "id": "af9d48dc",
   "metadata": {},
   "outputs": [
    {
     "data": {
      "text/plain": [
       "0.8333333333333334"
      ]
     },
     "execution_count": 13,
     "metadata": {},
     "output_type": "execute_result"
    }
   ],
   "source": [
    "knn_pipe.fit(x_train, y_train)\n",
    "knn_pipe.score(x_test, y_test)"
   ]
  },
  {
   "cell_type": "code",
   "execution_count": 14,
   "id": "2d164fe1",
   "metadata": {},
   "outputs": [
    {
     "data": {
      "text/plain": [
       "0.7666666666666667"
      ]
     },
     "execution_count": 14,
     "metadata": {},
     "output_type": "execute_result"
    }
   ],
   "source": [
    "dt_pipe.fit(x_train,y_train)\n",
    "dt_pipe.score(x_test, y_test)"
   ]
  }
 ],
 "metadata": {
  "kernelspec": {
   "display_name": "Python 3 (ipykernel)",
   "language": "python",
   "name": "python3"
  },
  "language_info": {
   "codemirror_mode": {
    "name": "ipython",
    "version": 3
   },
   "file_extension": ".py",
   "mimetype": "text/x-python",
   "name": "python",
   "nbconvert_exporter": "python",
   "pygments_lexer": "ipython3",
   "version": "3.8.13"
  }
 },
 "nbformat": 4,
 "nbformat_minor": 5
}
