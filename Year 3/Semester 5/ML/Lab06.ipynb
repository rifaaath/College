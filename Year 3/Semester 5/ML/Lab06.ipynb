{
 "cells": [
  {
   "cell_type": "markdown",
   "id": "edf645c4",
   "metadata": {},
   "source": [
    "6. Implement the market basket analysis using apriori algorithm and obtain the rules"
   ]
  },
  {
   "cell_type": "code",
   "execution_count": 1,
   "id": "a0e287e3",
   "metadata": {},
   "outputs": [],
   "source": [
    "import numpy as np\n",
    "import pandas as pd\n",
    "from apyori import apriori"
   ]
  },
  {
   "cell_type": "code",
   "execution_count": 2,
   "id": "71db284c",
   "metadata": {},
   "outputs": [
    {
     "data": {
      "text/plain": [
       "(38765, 7)"
      ]
     },
     "execution_count": 2,
     "metadata": {},
     "output_type": "execute_result"
    }
   ],
   "source": [
    "df = pd.read_csv('Day1.csv')\n",
    "df.shape"
   ]
  },
  {
   "cell_type": "code",
   "execution_count": 3,
   "id": "25210843",
   "metadata": {},
   "outputs": [],
   "source": [
    "records = []\n",
    "for i in range(0,22):\n",
    "    records.append([str(df.values[i,j]) for j in range(0,6)])"
   ]
  },
  {
   "cell_type": "code",
   "execution_count": 4,
   "id": "5a327420",
   "metadata": {},
   "outputs": [
    {
     "name": "stdout",
     "output_type": "stream",
     "text": [
      "1\n",
      "[RelationRecord(items=frozenset({'2015'}), support=1.0, ordered_statistics=[OrderedStatistic(items_base=frozenset(), items_add=frozenset({'2015'}), confidence=1.0, lift=1.0)])]\n"
     ]
    }
   ],
   "source": [
    "rules = apriori(records, min_support=0.5, min_confidence=0.7)\n",
    "results = list(rules)\n",
    "print(len(results))\n",
    "print(results)"
   ]
  }
 ],
 "metadata": {
  "kernelspec": {
   "display_name": "Python 3 (ipykernel)",
   "language": "python",
   "name": "python3"
  },
  "language_info": {
   "codemirror_mode": {
    "name": "ipython",
    "version": 3
   },
   "file_extension": ".py",
   "mimetype": "text/x-python",
   "name": "python",
   "nbconvert_exporter": "python",
   "pygments_lexer": "ipython3",
   "version": "3.8.13"
  }
 },
 "nbformat": 4,
 "nbformat_minor": 5
}
