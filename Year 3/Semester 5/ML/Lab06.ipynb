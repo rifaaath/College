{
 "cells": [
  {
   "cell_type": "markdown",
   "id": "edf645c4",
   "metadata": {},
   "source": [
    "6. Implement the market basket analysis using apriori algorithm and obtain the rules"
   ]
  },
  {
   "cell_type": "code",
   "execution_count": 1,
   "id": "a0e287e3",
   "metadata": {},
   "outputs": [],
   "source": [
    "import numpy as np\n",
    "import pandas as pd\n",
    "from apyori import apriori"
   ]
  },
  {
   "cell_type": "code",
   "execution_count": 2,
   "id": "71db284c",
   "metadata": {},
   "outputs": [
    {
     "data": {
      "text/plain": [
       "(7500, 20)"
      ]
     },
     "execution_count": 2,
     "metadata": {},
     "output_type": "execute_result"
    }
   ],
   "source": [
    "df = pd.read_csv('apriori.csv')\n",
    "df.shape"
   ]
  },
  {
   "cell_type": "code",
   "execution_count": 3,
   "id": "3c585a20",
   "metadata": {},
   "outputs": [],
   "source": [
    "df = df.fillna(0)"
   ]
  },
  {
   "cell_type": "code",
   "execution_count": 4,
   "id": "25210843",
   "metadata": {},
   "outputs": [],
   "source": [
    "records = []\n",
    "for i in range(7500):\n",
    "    records.append([str(df.values[i,j]) for j in range(0,20) if df.values[i,j]])"
   ]
  },
  {
   "cell_type": "code",
   "execution_count": 9,
   "id": "5a327420",
   "metadata": {},
   "outputs": [
    {
     "name": "stdout",
     "output_type": "stream",
     "text": [
      "14\n",
      "[RelationRecord(items=frozenset({'cereals', 'spaghetti', 'ground beef'}), support=0.0030666666666666668, ordered_statistics=[OrderedStatistic(items_base=frozenset({'cereals', 'ground beef'}), items_add=frozenset({'spaghetti'}), confidence=0.676470588235294, lift=3.884785154490586)]), RelationRecord(items=frozenset({'milk', 'olive oil', 'chicken'}), support=0.0036, ordered_statistics=[OrderedStatistic(items_base=frozenset({'olive oil', 'chicken'}), items_add=frozenset({'milk'}), confidence=0.5, lift=3.858024691358025)]), RelationRecord(items=frozenset({'spaghetti', 'cooking oil', 'ground beef'}), support=0.0048, ordered_statistics=[OrderedStatistic(items_base=frozenset({'cooking oil', 'ground beef'}), items_add=frozenset({'spaghetti'}), confidence=0.5714285714285714, lift=3.281557646029315)]), RelationRecord(items=frozenset({'eggs', 'spaghetti', 'red wine'}), support=0.0037333333333333333, ordered_statistics=[OrderedStatistic(items_base=frozenset({'eggs', 'red wine'}), items_add=frozenset({'spaghetti'}), confidence=0.5283018867924528, lift=3.0338929180271026)]), RelationRecord(items=frozenset({'milk', 'frozen vegetables', 'soup'}), support=0.004, ordered_statistics=[OrderedStatistic(items_base=frozenset({'soup', 'frozen vegetables'}), items_add=frozenset({'milk'}), confidence=0.5, lift=3.858024691358025)]), RelationRecord(items=frozenset({'spaghetti', 'shrimp', 'ground beef'}), support=0.006, ordered_statistics=[OrderedStatistic(items_base=frozenset({'shrimp', 'ground beef'}), items_add=frozenset({'spaghetti'}), confidence=0.5232558139534884, lift=3.004914704939635)]), RelationRecord(items=frozenset({'tomato sauce', 'spaghetti', 'ground beef'}), support=0.0030666666666666668, ordered_statistics=[OrderedStatistic(items_base=frozenset({'tomato sauce', 'ground beef'}), items_add=frozenset({'spaghetti'}), confidence=0.5750000000000001, lift=3.302067381316999)]), RelationRecord(items=frozenset({'tomatoes', 'olive oil', 'spaghetti'}), support=0.0044, ordered_statistics=[OrderedStatistic(items_base=frozenset({'tomatoes', 'olive oil'}), items_add=frozenset({'spaghetti'}), confidence=0.6111111111111112, lift=3.50944359367024)]), RelationRecord(items=frozenset({'chocolate', 'frozen vegetables', 'spaghetti', 'ground beef'}), support=0.0030666666666666668, ordered_statistics=[OrderedStatistic(items_base=frozenset({'chocolate', 'frozen vegetables', 'ground beef'}), items_add=frozenset({'spaghetti'}), confidence=0.5348837209302326, lift=3.0716905872716267)]), RelationRecord(items=frozenset({'milk', 'frozen vegetables', 'spaghetti', 'ground beef'}), support=0.0030666666666666668, ordered_statistics=[OrderedStatistic(items_base=frozenset({'milk', 'frozen vegetables', 'ground beef'}), items_add=frozenset({'spaghetti'}), confidence=0.5348837209302326, lift=3.0716905872716267)]), RelationRecord(items=frozenset({'milk', 'frozen vegetables', 'mineral water', 'olive oil'}), support=0.0033333333333333335, ordered_statistics=[OrderedStatistic(items_base=frozenset({'olive oil', 'frozen vegetables', 'mineral water'}), items_add=frozenset({'milk'}), confidence=0.5102040816326531, lift=3.9367598891408417)]), RelationRecord(items=frozenset({'milk', 'frozen vegetables', 'mineral water', 'soup'}), support=0.0030666666666666668, ordered_statistics=[OrderedStatistic(items_base=frozenset({'milk', 'frozen vegetables', 'soup'}), items_add=frozenset({'mineral water'}), confidence=0.7666666666666667, lift=3.2176832680470064), OrderedStatistic(items_base=frozenset({'soup', 'frozen vegetables', 'mineral water'}), items_add=frozenset({'milk'}), confidence=0.605263157894737, lift=4.670240415854452)]), RelationRecord(items=frozenset({'tomatoes', 'frozen vegetables', 'mineral water', 'spaghetti'}), support=0.0030666666666666668, ordered_statistics=[OrderedStatistic(items_base=frozenset({'tomatoes', 'frozen vegetables', 'mineral water'}), items_add=frozenset({'spaghetti'}), confidence=0.5227272727272727, lift=3.0018794375609077)]), RelationRecord(items=frozenset({'tomatoes', 'mineral water', 'spaghetti', 'ground beef'}), support=0.0030666666666666668, ordered_statistics=[OrderedStatistic(items_base=frozenset({'tomatoes', 'mineral water', 'ground beef'}), items_add=frozenset({'spaghetti'}), confidence=0.5609756097560976, lift=3.221529152504389)])]\n"
     ]
    }
   ],
   "source": [
    "rules = apriori(records, min_support=0.003, min_confidence=0.5, min_lift=3, min_length=2)\n",
    "results = list(rules)\n",
    "print(len(results))\n",
    "print(results)"
   ]
  },
  {
   "cell_type": "code",
   "execution_count": null,
   "id": "3ea699ed",
   "metadata": {},
   "outputs": [],
   "source": []
  }
 ],
 "metadata": {
  "kernelspec": {
   "display_name": "Python 3 (ipykernel)",
   "language": "python",
   "name": "python3"
  },
  "language_info": {
   "codemirror_mode": {
    "name": "ipython",
    "version": 3
   },
   "file_extension": ".py",
   "mimetype": "text/x-python",
   "name": "python",
   "nbconvert_exporter": "python",
   "pygments_lexer": "ipython3",
   "version": "3.8.13"
  }
 },
 "nbformat": 4,
 "nbformat_minor": 5
}
