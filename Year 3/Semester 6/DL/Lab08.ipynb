{
 "cells": [
  {
   "cell_type": "code",
   "execution_count": 1,
   "id": "f39c9438",
   "metadata": {},
   "outputs": [],
   "source": [
    "#Hyperparameter tuning"
   ]
  },
  {
   "cell_type": "code",
   "execution_count": 2,
   "id": "1db4b15d",
   "metadata": {},
   "outputs": [],
   "source": [
    "import pandas as pd"
   ]
  },
  {
   "cell_type": "code",
   "execution_count": 3,
   "id": "dcaf971b",
   "metadata": {},
   "outputs": [],
   "source": [
    "#Load data\n",
    "df = pd.read_csv('Real_Combine.csv')\n",
    "df = df.dropna()\n",
    "\n",
    "x = df.drop('PM 2.5', axis=1)\n",
    "y = df['PM 2.5']"
   ]
  },
  {
   "cell_type": "code",
   "execution_count": 4,
   "id": "df4bb4b4",
   "metadata": {},
   "outputs": [],
   "source": [
    "#Split data\n",
    "from sklearn.model_selection import train_test_split\n",
    "\n",
    "x_train, x_test, y_train, y_test = train_test_split(x, y, test_size = 0.2)"
   ]
  },
  {
   "cell_type": "code",
   "execution_count": 5,
   "id": "d60dfdc5",
   "metadata": {},
   "outputs": [],
   "source": [
    "#Hyperparameter function\n",
    "from keras.models import Sequential\n",
    "from keras.layers import Dense\n",
    "\n",
    "def hype(p):\n",
    "    model = Sequential()\n",
    "    for i in range(p.Int('num_layers', 2, 20)):\n",
    "        model.add(Dense(\n",
    "            units=p.Int('units_'+str(i),\n",
    "                        min_value = 32,\n",
    "                        max_value = 512,\n",
    "                        step = 32),\n",
    "            activation='tanh',\n",
    "                       ))\n",
    "        \n",
    "        model.add(Dense(1, activation='linear'))\n",
    "        model.compile(optimizer = 'adam', loss='mean_absolute_error', metrics=['mean_absolute_error'])\n",
    "        \n",
    "        return model"
   ]
  },
  {
   "cell_type": "code",
   "execution_count": 6,
   "id": "604575e1",
   "metadata": {},
   "outputs": [
    {
     "name": "stdout",
     "output_type": "stream",
     "text": [
      "Metal device set to: Apple M1 Pro\n"
     ]
    },
    {
     "name": "stderr",
     "output_type": "stream",
     "text": [
      "2023-05-15 09:05:28.384110: I tensorflow/core/common_runtime/pluggable_device/pluggable_device_factory.cc:305] Could not identify NUMA node of platform GPU ID 0, defaulting to 0. Your kernel may not have been built with NUMA support.\n",
      "2023-05-15 09:05:28.384249: I tensorflow/core/common_runtime/pluggable_device/pluggable_device_factory.cc:271] Created TensorFlow device (/job:localhost/replica:0/task:0/device:GPU:0 with 0 MB memory) -> physical PluggableDevice (device: 0, name: METAL, pci bus id: <undefined>)\n"
     ]
    }
   ],
   "source": [
    "from keras_tuner.tuners import RandomSearch\n",
    "\n",
    "tuner = RandomSearch(hype,\n",
    "                    objective='val_mean_absolute_error',\n",
    "                    max_trials=5,\n",
    "                    directory='project',\n",
    "                    overwrite=True)"
   ]
  },
  {
   "cell_type": "code",
   "execution_count": 7,
   "id": "e03d7c80",
   "metadata": {},
   "outputs": [
    {
     "name": "stdout",
     "output_type": "stream",
     "text": [
      "Search space summary\n",
      "Default search space size: 2\n",
      "num_layers (Int)\n",
      "{'default': None, 'conditions': [], 'min_value': 2, 'max_value': 20, 'step': 1, 'sampling': 'linear'}\n",
      "units_0 (Int)\n",
      "{'default': None, 'conditions': [], 'min_value': 32, 'max_value': 512, 'step': 32, 'sampling': 'linear'}\n"
     ]
    }
   ],
   "source": [
    "tuner.search_space_summary()"
   ]
  },
  {
   "cell_type": "code",
   "execution_count": 8,
   "id": "9a7b5bdf",
   "metadata": {},
   "outputs": [
    {
     "name": "stdout",
     "output_type": "stream",
     "text": [
      "Trial 5 Complete [00h 00m 02s]\n",
      "val_mean_absolute_error: 102.63560485839844\n",
      "\n",
      "Best val_mean_absolute_error So Far: 68.1436767578125\n",
      "Total elapsed time: 00h 00m 08s\n",
      "INFO:tensorflow:Oracle triggered exit\n"
     ]
    }
   ],
   "source": [
    "tuner.search(x_train, y_train, epochs = 5, validation_data=(x_test, y_test))"
   ]
  },
  {
   "cell_type": "code",
   "execution_count": 9,
   "id": "8c0b123d",
   "metadata": {},
   "outputs": [
    {
     "name": "stdout",
     "output_type": "stream",
     "text": [
      "Epoch 1/5\n",
      " 9/28 [========>.....................] - ETA: 0s - loss: 106.7895 - mean_absolute_error: 106.7895"
     ]
    },
    {
     "name": "stderr",
     "output_type": "stream",
     "text": [
      "2023-05-15 09:05:36.849903: I tensorflow/core/grappler/optimizers/custom_graph_optimizer_registry.cc:113] Plugin optimizer for device_type GPU is enabled.\n"
     ]
    },
    {
     "name": "stdout",
     "output_type": "stream",
     "text": [
      "28/28 [==============================] - 1s 12ms/step - loss: 102.8158 - mean_absolute_error: 102.8158 - val_loss: 93.9570 - val_mean_absolute_error: 93.9570\n",
      "Epoch 2/5\n",
      "19/28 [===================>..........] - ETA: 0s - loss: 94.8432 - mean_absolute_error: 94.8432"
     ]
    },
    {
     "name": "stderr",
     "output_type": "stream",
     "text": [
      "2023-05-15 09:05:37.194084: I tensorflow/core/grappler/optimizers/custom_graph_optimizer_registry.cc:113] Plugin optimizer for device_type GPU is enabled.\n"
     ]
    },
    {
     "name": "stdout",
     "output_type": "stream",
     "text": [
      "28/28 [==============================] - 0s 7ms/step - loss: 91.3380 - mean_absolute_error: 91.3380 - val_loss: 82.9390 - val_mean_absolute_error: 82.9390\n",
      "Epoch 3/5\n",
      "28/28 [==============================] - 0s 7ms/step - loss: 82.4380 - mean_absolute_error: 82.4380 - val_loss: 75.7000 - val_mean_absolute_error: 75.7000\n",
      "Epoch 4/5\n",
      "28/28 [==============================] - 0s 7ms/step - loss: 76.7694 - mean_absolute_error: 76.7694 - val_loss: 71.2401 - val_mean_absolute_error: 71.2401\n",
      "Epoch 5/5\n",
      "28/28 [==============================] - 0s 7ms/step - loss: 73.2867 - mean_absolute_error: 73.2867 - val_loss: 68.5939 - val_mean_absolute_error: 68.5939\n"
     ]
    }
   ],
   "source": [
    "model = hype(tuner.get_best_hyperparameters(1)[0])\n",
    "hist = model.fit(x_train, y_train, epochs=5, validation_data = (x_test, y_test))"
   ]
  },
  {
   "cell_type": "code",
   "execution_count": 10,
   "id": "0650e747",
   "metadata": {},
   "outputs": [
    {
     "data": {
      "image/png": "[encoded data removed]",
      "text/plain": [
       "<Figure size 640x480 with 1 Axes>"
      ]
     },
     "metadata": {},
     "output_type": "display_data"
    }
   ],
   "source": [
    "import matplotlib.pyplot as plt\n",
    "\n",
    "#Plotting\n",
    "plt.plot(hist.history['mean_absolute_error'], label='Train')\n",
    "plt.plot(hist.history['val_mean_absolute_error'], label='Test')\n",
    "plt.xlabel('Epoch')\n",
    "plt.ylabel('Mean Absolute Error')\n",
    "plt.legend()\n",
    "plt.show()"
   ]
  }
 ],
 "metadata": {
  "kernelspec": {
   "display_name": "Python 3 (ipykernel)",
   "language": "python",
   "name": "python3"
  },
  "language_info": {
   "codemirror_mode": {
    "name": "ipython",
    "version": 3
   },
   "file_extension": ".py",
   "mimetype": "text/x-python",
   "name": "python",
   "nbconvert_exporter": "python",
   "pygments_lexer": "ipython3",
   "version": "3.8.15"
  }
 },
 "nbformat": 4,
 "nbformat_minor": 5
}
