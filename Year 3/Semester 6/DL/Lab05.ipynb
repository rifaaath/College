{
 "cells": [
  {
   "cell_type": "code",
   "execution_count": 1,
   "id": "dd4788e6",
   "metadata": {},
   "outputs": [],
   "source": [
    "#Prediction using ANN"
   ]
  },
  {
   "cell_type": "code",
   "execution_count": 2,
   "id": "6e8041e7",
   "metadata": {},
   "outputs": [],
   "source": [
    "import pandas as pd"
   ]
  },
  {
   "cell_type": "code",
   "execution_count": 3,
   "id": "2df409f7",
   "metadata": {},
   "outputs": [],
   "source": [
    "#Load data\n",
    "df = pd.read_csv('Churn_Modelling.csv', index_col=0)\n",
    "\n",
    "x = df.drop(['Exited'], axis=1)\n",
    "y = df['Exited']\n",
    "x = x.drop(['CustomerId', 'Surname'], axis=1)"
   ]
  },
  {
   "cell_type": "code",
   "execution_count": 4,
   "id": "6de78ea6",
   "metadata": {},
   "outputs": [],
   "source": [
    "#Dummy encoding\n",
    "geo = pd.get_dummies(x['Geography'], drop_first=True)\n",
    "gen = pd.get_dummies(x['Gender'], drop_first=True)\n",
    "\n",
    "x = x.drop(['Geography', 'Gender'], axis=1)\n",
    "x = pd.concat([x, geo, gen], axis=1)"
   ]
  },
  {
   "cell_type": "code",
   "execution_count": 5,
   "id": "c2baaf91",
   "metadata": {},
   "outputs": [],
   "source": [
    "#Split data\n",
    "from sklearn.model_selection import train_test_split\n",
    "\n",
    "x_train, x_test, y_train, y_test = train_test_split(x, y, test_size=0.2)"
   ]
  },
  {
   "cell_type": "code",
   "execution_count": 6,
   "id": "9010e422",
   "metadata": {},
   "outputs": [],
   "source": [
    "from keras.models import Sequential\n",
    "from keras.layers import Dense"
   ]
  },
  {
   "cell_type": "code",
   "execution_count": 7,
   "id": "6e5e7092",
   "metadata": {},
   "outputs": [
    {
     "name": "stdout",
     "output_type": "stream",
     "text": [
      "Metal device set to: Apple M1 Pro\n"
     ]
    },
    {
     "name": "stderr",
     "output_type": "stream",
     "text": [
      "2023-05-15 20:20:44.962880: I tensorflow/core/common_runtime/pluggable_device/pluggable_device_factory.cc:305] Could not identify NUMA node of platform GPU ID 0, defaulting to 0. Your kernel may not have been built with NUMA support.\n",
      "2023-05-15 20:20:44.963050: I tensorflow/core/common_runtime/pluggable_device/pluggable_device_factory.cc:271] Created TensorFlow device (/job:localhost/replica:0/task:0/device:GPU:0 with 0 MB memory) -> physical PluggableDevice (device: 0, name: METAL, pci bus id: <undefined>)\n"
     ]
    }
   ],
   "source": [
    "#ANN Model\n",
    "model = Sequential()\n",
    "\n",
    "model.add(Dense(6, activation='relu', input_dim=11))\n",
    "model.add(Dense(6, activation='relu'))\n",
    "model.add(Dense(1, activation='sigmoid'))"
   ]
  },
  {
   "cell_type": "code",
   "execution_count": 8,
   "id": "e00e72e6",
   "metadata": {},
   "outputs": [
    {
     "name": "stdout",
     "output_type": "stream",
     "text": [
      "Epoch 1/10\n"
     ]
    },
    {
     "name": "stderr",
     "output_type": "stream",
     "text": [
      "2023-05-15 20:20:45.183226: W tensorflow/core/platform/profile_utils/cpu_utils.cc:128] Failed to get CPU frequency: 0 Hz\n",
      "2023-05-15 20:20:45.343112: I tensorflow/core/grappler/optimizers/custom_graph_optimizer_registry.cc:113] Plugin optimizer for device_type GPU is enabled.\n"
     ]
    },
    {
     "name": "stdout",
     "output_type": "stream",
     "text": [
      "248/250 [============================>.] - ETA: 0s - loss: 2444.4956 - accuracy: 0.4773"
     ]
    },
    {
     "name": "stderr",
     "output_type": "stream",
     "text": [
      "2023-05-15 20:20:47.356696: I tensorflow/core/grappler/optimizers/custom_graph_optimizer_registry.cc:113] Plugin optimizer for device_type GPU is enabled.\n"
     ]
    },
    {
     "name": "stdout",
     "output_type": "stream",
     "text": [
      "250/250 [==============================] - 3s 9ms/step - loss: 2425.1646 - accuracy: 0.4795 - val_loss: 41.3826 - val_accuracy: 0.7675\n",
      "Epoch 2/10\n",
      "250/250 [==============================] - 2s 8ms/step - loss: 5.4810 - accuracy: 0.7921 - val_loss: 0.6477 - val_accuracy: 0.7890\n",
      "Epoch 3/10\n",
      "250/250 [==============================] - 2s 8ms/step - loss: 0.5943 - accuracy: 0.7964 - val_loss: 0.5960 - val_accuracy: 0.7895\n",
      "Epoch 4/10\n",
      "250/250 [==============================] - 2s 8ms/step - loss: 0.5664 - accuracy: 0.7968 - val_loss: 0.5730 - val_accuracy: 0.7895\n",
      "Epoch 5/10\n",
      "250/250 [==============================] - 2s 8ms/step - loss: 0.5459 - accuracy: 0.7970 - val_loss: 0.5566 - val_accuracy: 0.7895\n",
      "Epoch 6/10\n",
      "250/250 [==============================] - 2s 8ms/step - loss: 0.5311 - accuracy: 0.7972 - val_loss: 0.5451 - val_accuracy: 0.7895\n",
      "Epoch 7/10\n",
      "250/250 [==============================] - 2s 8ms/step - loss: 0.5209 - accuracy: 0.7974 - val_loss: 0.5373 - val_accuracy: 0.7895\n",
      "Epoch 8/10\n",
      "250/250 [==============================] - 2s 8ms/step - loss: 0.5140 - accuracy: 0.7975 - val_loss: 0.5322 - val_accuracy: 0.7895\n",
      "Epoch 9/10\n",
      "250/250 [==============================] - 2s 8ms/step - loss: 0.5095 - accuracy: 0.7976 - val_loss: 0.5288 - val_accuracy: 0.7895\n",
      "Epoch 10/10\n",
      "250/250 [==============================] - 2s 8ms/step - loss: 0.5068 - accuracy: 0.7976 - val_loss: 0.5268 - val_accuracy: 0.7905\n"
     ]
    }
   ],
   "source": [
    "model.compile(optimizer='adam', loss='binary_crossentropy', metrics=['accuracy'])\n",
    "\n",
    "hist = model.fit(x_train, y_train, epochs=10, validation_data=(x_test,y_test))"
   ]
  },
  {
   "cell_type": "code",
   "execution_count": 9,
   "id": "70bff3e1",
   "metadata": {},
   "outputs": [
    {
     "name": "stdout",
     "output_type": "stream",
     "text": [
      "Accuracy: 0.7976250052452087\n"
     ]
    }
   ],
   "source": [
    "print(\"Accuracy:\",hist.history['accuracy'][-1])"
   ]
  },
  {
   "cell_type": "code",
   "execution_count": 10,
   "id": "774cbf9c",
   "metadata": {},
   "outputs": [],
   "source": [
    "import matplotlib.pyplot as plt"
   ]
  },
  {
   "cell_type": "code",
   "execution_count": 11,
   "id": "3eb86f80",
   "metadata": {},
   "outputs": [
    {
     "data": {
      "image/png": "[encoded data removed]",
      "text/plain": [
       "<Figure size 640x480 with 1 Axes>"
      ]
     },
     "metadata": {},
     "output_type": "display_data"
    }
   ],
   "source": [
    "#Plotting\n",
    "plt.plot(hist.history['accuracy'], label='Train')\n",
    "plt.plot(hist.history['val_accuracy'], label='Test')\n",
    "plt.xlabel('Epoch')\n",
    "plt.ylabel('Accuracy')\n",
    "plt.legend()\n",
    "plt.show()"
   ]
  },
  {
   "cell_type": "code",
   "execution_count": 12,
   "id": "f1ae2336",
   "metadata": {},
   "outputs": [
    {
     "data": {
      "image/png": "[encoded data removed]",
      "text/plain": [
       "<Figure size 640x480 with 1 Axes>"
      ]
     },
     "metadata": {},
     "output_type": "display_data"
    }
   ],
   "source": [
    "plt.plot(hist.history['loss'], label='Train')\n",
    "plt.plot(hist.history['val_loss'], label='Test')\n",
    "plt.xlabel('Epoch')\n",
    "plt.ylabel('Loss')\n",
    "plt.legend()\n",
    "plt.show()"
   ]
  }
 ],
 "metadata": {
  "kernelspec": {
   "display_name": "Python 3 (ipykernel)",
   "language": "python",
   "name": "python3"
  },
  "language_info": {
   "codemirror_mode": {
    "name": "ipython",
    "version": 3
   },
   "file_extension": ".py",
   "mimetype": "text/x-python",
   "name": "python",
   "nbconvert_exporter": "python",
   "pygments_lexer": "ipython3",
   "version": "3.8.15"
  }
 },
 "nbformat": 4,
 "nbformat_minor": 5
}
