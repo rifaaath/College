{
 "cells": [
  {
   "cell_type": "code",
   "execution_count": 1,
   "id": "aa66c26c",
   "metadata": {
    "collapsed": true
   },
   "outputs": [],
   "source": [
    "#Liver Disease Prediction"
   ]
  },
  {
   "cell_type": "code",
   "execution_count": 2,
   "id": "1803bc0f",
   "metadata": {
    "collapsed": true
   },
   "outputs": [],
   "source": [
    "import pandas as pd"
   ]
  },
  {
   "cell_type": "code",
   "execution_count": 10,
   "id": "50021a62",
   "metadata": {
    "collapsed": true
   },
   "outputs": [],
   "source": [
    "df = pd.read_csv('indian_liver_patient.csv')\n",
    "df = df.dropna()\n",
    "\n",
    "\n",
    "x = df.drop('Dataset', axis=1)\n",
    "y = df['Dataset']"
   ]
  },
  {
   "cell_type": "code",
   "execution_count": 11,
   "id": "28093d65",
   "metadata": {
    "collapsed": true
   },
   "outputs": [],
   "source": [
    "x['Gender'] = pd.get_dummies(x['Gender'], drop_first=True)"
   ]
  },
  {
   "cell_type": "code",
   "execution_count": 12,
   "id": "431f5ec9",
   "metadata": {
    "collapsed": true
   },
   "outputs": [],
   "source": [
    "from sklearn.model_selection import train_test_split\n",
    "\n",
    "x_train, x_test, y_train, y_test = train_test_split(x, y, test_size = 0.2)"
   ]
  },
  {
   "cell_type": "code",
   "execution_count": 20,
   "id": "b29db3c9",
   "metadata": {
    "collapsed": true
   },
   "outputs": [],
   "source": [
    "from keras.models import Sequential\n",
    "from keras.layers import Dense\n",
    "\n",
    "model = Sequential()\n",
    "\n",
    "model.add(Dense(6, activation='relu', input_dim=10))\n",
    "model.add(Dense(6, activation='relu'))\n",
    "model.add(Dense(1, activation='sigmoid'))"
   ]
  },
  {
   "cell_type": "code",
   "execution_count": 29,
   "id": "61d79f75",
   "metadata": {
    "collapsed": true
   },
   "outputs": [
    {
     "name": "stdout",
     "output_type": "stream",
     "text": [
      "Epoch 1/100\n",
      " 1/15 [=>............................] - ETA: 4s - loss: -165.6390 - accuracy: 0.7812"
     ]
    },
    {
     "name": "stderr",
     "output_type": "stream",
     "text": [
      "2023-05-15 20:22:43.416230: I tensorflow/core/grappler/optimizers/custom_graph_optimizer_registry.cc:113] Plugin optimizer for device_type GPU is enabled.\n"
     ]
    },
    {
     "name": "stdout",
     "output_type": "stream",
     "text": [
      "15/15 [==============================] - 1s 29ms/step - loss: -254.8747 - accuracy: 0.7084 - val_loss: -222.5888 - val_accuracy: 0.7414\n",
      "Epoch 2/100\n",
      " 1/15 [=>............................] - ETA: 0s - loss: -288.5177 - accuracy: 0.6562"
     ]
    },
    {
     "name": "stderr",
     "output_type": "stream",
     "text": [
      "2023-05-15 20:22:43.875809: I tensorflow/core/grappler/optimizers/custom_graph_optimizer_registry.cc:113] Plugin optimizer for device_type GPU is enabled.\n"
     ]
    },
    {
     "name": "stdout",
     "output_type": "stream",
     "text": [
      "15/15 [==============================] - 0s 11ms/step - loss: -276.6706 - accuracy: 0.7084 - val_loss: -241.8104 - val_accuracy: 0.7414\n",
      "Epoch 3/100\n",
      "15/15 [==============================] - 0s 11ms/step - loss: -300.0853 - accuracy: 0.7084 - val_loss: -262.1647 - val_accuracy: 0.7414\n",
      "Epoch 4/100\n",
      "15/15 [==============================] - 0s 11ms/step - loss: -325.2485 - accuracy: 0.7084 - val_loss: -283.9473 - val_accuracy: 0.7414\n",
      "Epoch 5/100\n",
      "15/15 [==============================] - 0s 10ms/step - loss: -353.3095 - accuracy: 0.7084 - val_loss: -307.3559 - val_accuracy: 0.7414\n",
      "Epoch 6/100\n",
      "15/15 [==============================] - 0s 11ms/step - loss: -381.8563 - accuracy: 0.7084 - val_loss: -333.1049 - val_accuracy: 0.7414\n",
      "Epoch 7/100\n",
      "15/15 [==============================] - 0s 10ms/step - loss: -413.6396 - accuracy: 0.7084 - val_loss: -360.5481 - val_accuracy: 0.7414\n",
      "Epoch 8/100\n",
      "15/15 [==============================] - 0s 10ms/step - loss: -448.3533 - accuracy: 0.7084 - val_loss: -389.1624 - val_accuracy: 0.7414\n",
      "Epoch 9/100\n",
      "15/15 [==============================] - 0s 10ms/step - loss: -483.3172 - accuracy: 0.7084 - val_loss: -422.8324 - val_accuracy: 0.7414\n",
      "Epoch 10/100\n",
      "15/15 [==============================] - 0s 11ms/step - loss: -524.0729 - accuracy: 0.7084 - val_loss: -456.0556 - val_accuracy: 0.7414\n",
      "Epoch 11/100\n",
      "15/15 [==============================] - 0s 10ms/step - loss: -565.3904 - accuracy: 0.7084 - val_loss: -492.0312 - val_accuracy: 0.7414\n",
      "Epoch 12/100\n",
      "15/15 [==============================] - 0s 11ms/step - loss: -610.3482 - accuracy: 0.7084 - val_loss: -531.0575 - val_accuracy: 0.7414\n",
      "Epoch 13/100\n",
      "15/15 [==============================] - 0s 10ms/step - loss: -656.7079 - accuracy: 0.7084 - val_loss: -573.0624 - val_accuracy: 0.7414\n",
      "Epoch 14/100\n",
      "15/15 [==============================] - 0s 10ms/step - loss: -707.8691 - accuracy: 0.7084 - val_loss: -616.3969 - val_accuracy: 0.7414\n",
      "Epoch 15/100\n",
      "15/15 [==============================] - 0s 11ms/step - loss: -762.7067 - accuracy: 0.7084 - val_loss: -662.5453 - val_accuracy: 0.7414\n",
      "Epoch 16/100\n",
      "15/15 [==============================] - 0s 10ms/step - loss: -818.8104 - accuracy: 0.7084 - val_loss: -712.0028 - val_accuracy: 0.7414\n",
      "Epoch 17/100\n",
      "15/15 [==============================] - 0s 10ms/step - loss: -879.6137 - accuracy: 0.7084 - val_loss: -764.3806 - val_accuracy: 0.7414\n",
      "Epoch 18/100\n",
      "15/15 [==============================] - 0s 10ms/step - loss: -945.1660 - accuracy: 0.7084 - val_loss: -819.8254 - val_accuracy: 0.7414\n",
      "Epoch 19/100\n",
      "15/15 [==============================] - 0s 10ms/step - loss: -1013.6957 - accuracy: 0.7084 - val_loss: -879.6190 - val_accuracy: 0.7414\n",
      "Epoch 20/100\n",
      "15/15 [==============================] - 0s 10ms/step - loss: -1086.8453 - accuracy: 0.7084 - val_loss: -943.1960 - val_accuracy: 0.7414\n",
      "Epoch 21/100\n",
      "15/15 [==============================] - 0s 10ms/step - loss: -1166.0907 - accuracy: 0.7084 - val_loss: -1011.7982 - val_accuracy: 0.7414\n",
      "Epoch 22/100\n",
      "15/15 [==============================] - 0s 10ms/step - loss: -1247.9084 - accuracy: 0.7084 - val_loss: -1085.0806 - val_accuracy: 0.7414\n",
      "Epoch 23/100\n",
      "15/15 [==============================] - 0s 10ms/step - loss: -1339.2227 - accuracy: 0.7084 - val_loss: -1157.4926 - val_accuracy: 0.7414\n",
      "Epoch 24/100\n",
      "15/15 [==============================] - 0s 11ms/step - loss: -1430.2789 - accuracy: 0.7084 - val_loss: -1239.7473 - val_accuracy: 0.7414\n",
      "Epoch 25/100\n",
      "15/15 [==============================] - 0s 10ms/step - loss: -1530.4434 - accuracy: 0.7084 - val_loss: -1324.6770 - val_accuracy: 0.7414\n",
      "Epoch 26/100\n",
      "15/15 [==============================] - 0s 11ms/step - loss: -1634.1171 - accuracy: 0.7084 - val_loss: -1415.7810 - val_accuracy: 0.7414\n",
      "Epoch 27/100\n",
      "15/15 [==============================] - 0s 10ms/step - loss: -1744.6044 - accuracy: 0.7084 - val_loss: -1510.0538 - val_accuracy: 0.7414\n",
      "Epoch 28/100\n",
      "15/15 [==============================] - 0s 10ms/step - loss: -1863.2516 - accuracy: 0.7084 - val_loss: -1614.7140 - val_accuracy: 0.7414\n",
      "Epoch 29/100\n",
      "15/15 [==============================] - 0s 10ms/step - loss: -1991.0349 - accuracy: 0.7084 - val_loss: -1725.3081 - val_accuracy: 0.7414\n",
      "Epoch 30/100\n",
      "15/15 [==============================] - 0s 11ms/step - loss: -2127.0015 - accuracy: 0.7084 - val_loss: -1841.6183 - val_accuracy: 0.7414\n",
      "Epoch 31/100\n",
      "15/15 [==============================] - 0s 11ms/step - loss: -2269.7776 - accuracy: 0.7084 - val_loss: -1963.2642 - val_accuracy: 0.7414\n",
      "Epoch 32/100\n",
      "15/15 [==============================] - 0s 11ms/step - loss: -2419.5962 - accuracy: 0.7084 - val_loss: -2093.8184 - val_accuracy: 0.7414\n",
      "Epoch 33/100\n",
      "15/15 [==============================] - 0s 10ms/step - loss: -2581.8066 - accuracy: 0.7084 - val_loss: -2229.6743 - val_accuracy: 0.7414\n",
      "Epoch 34/100\n",
      "15/15 [==============================] - 0s 10ms/step - loss: -2744.3284 - accuracy: 0.7084 - val_loss: -2376.2014 - val_accuracy: 0.7414\n",
      "Epoch 35/100\n",
      "15/15 [==============================] - 0s 10ms/step - loss: -2924.8035 - accuracy: 0.7084 - val_loss: -2524.8093 - val_accuracy: 0.7414\n",
      "Epoch 36/100\n",
      "15/15 [==============================] - 0s 10ms/step - loss: -3109.8052 - accuracy: 0.7084 - val_loss: -2679.2424 - val_accuracy: 0.7414\n",
      "Epoch 37/100\n",
      "15/15 [==============================] - 0s 11ms/step - loss: -3298.6191 - accuracy: 0.7084 - val_loss: -2848.8669 - val_accuracy: 0.7414\n",
      "Epoch 38/100\n",
      "15/15 [==============================] - 0s 10ms/step - loss: -3500.6970 - accuracy: 0.7084 - val_loss: -3026.6084 - val_accuracy: 0.7414\n",
      "Epoch 39/100\n",
      "15/15 [==============================] - 0s 10ms/step - loss: -3716.4517 - accuracy: 0.7084 - val_loss: -3212.1196 - val_accuracy: 0.7414\n",
      "Epoch 40/100\n",
      "15/15 [==============================] - 0s 10ms/step - loss: -3935.8674 - accuracy: 0.7084 - val_loss: -3406.4158 - val_accuracy: 0.7414\n",
      "Epoch 41/100\n",
      "15/15 [==============================] - 0s 10ms/step - loss: -4173.0352 - accuracy: 0.7084 - val_loss: -3595.9998 - val_accuracy: 0.7414\n",
      "Epoch 42/100\n",
      "15/15 [==============================] - 0s 11ms/step - loss: -4404.3765 - accuracy: 0.7084 - val_loss: -3802.6592 - val_accuracy: 0.7414\n",
      "Epoch 43/100\n",
      "15/15 [==============================] - 0s 10ms/step - loss: -4660.2363 - accuracy: 0.7084 - val_loss: -4009.0659 - val_accuracy: 0.7414\n",
      "Epoch 44/100\n",
      "15/15 [==============================] - 0s 10ms/step - loss: -4918.8013 - accuracy: 0.7084 - val_loss: -4232.0356 - val_accuracy: 0.7414\n",
      "Epoch 45/100\n",
      "15/15 [==============================] - 0s 10ms/step - loss: -5190.6748 - accuracy: 0.7084 - val_loss: -4461.3906 - val_accuracy: 0.7414\n",
      "Epoch 46/100\n",
      "15/15 [==============================] - 0s 10ms/step - loss: -5475.9199 - accuracy: 0.7084 - val_loss: -4702.3716 - val_accuracy: 0.7414\n",
      "Epoch 47/100\n",
      "15/15 [==============================] - 0s 10ms/step - loss: -5763.0884 - accuracy: 0.7084 - val_loss: -4962.1021 - val_accuracy: 0.7414\n",
      "Epoch 48/100\n",
      "15/15 [==============================] - 0s 11ms/step - loss: -6076.5083 - accuracy: 0.7084 - val_loss: -5218.8286 - val_accuracy: 0.7414\n",
      "Epoch 49/100\n",
      "15/15 [==============================] - 0s 10ms/step - loss: -6391.9541 - accuracy: 0.7084 - val_loss: -5485.5200 - val_accuracy: 0.7414\n",
      "Epoch 50/100\n",
      "15/15 [==============================] - 0s 10ms/step - loss: -6711.2378 - accuracy: 0.7084 - val_loss: -5769.4761 - val_accuracy: 0.7414\n",
      "Epoch 51/100\n",
      "15/15 [==============================] - 0s 10ms/step - loss: -7062.6626 - accuracy: 0.7084 - val_loss: -6051.1396 - val_accuracy: 0.7414\n",
      "Epoch 52/100\n",
      "15/15 [==============================] - 0s 10ms/step - loss: -7410.5918 - accuracy: 0.7084 - val_loss: -6353.2988 - val_accuracy: 0.7414\n",
      "Epoch 53/100\n",
      "15/15 [==============================] - 0s 11ms/step - loss: -7772.3521 - accuracy: 0.7084 - val_loss: -6668.5278 - val_accuracy: 0.7414\n",
      "Epoch 54/100\n",
      "15/15 [==============================] - 0s 11ms/step - loss: -8153.8745 - accuracy: 0.7084 - val_loss: -6976.4248 - val_accuracy: 0.7414\n",
      "Epoch 55/100\n",
      "15/15 [==============================] - 0s 10ms/step - loss: -8526.4150 - accuracy: 0.7084 - val_loss: -7319.3555 - val_accuracy: 0.7414\n",
      "Epoch 56/100\n",
      "15/15 [==============================] - 0s 10ms/step - loss: -8936.6162 - accuracy: 0.7084 - val_loss: -7656.9531 - val_accuracy: 0.7414\n",
      "Epoch 57/100\n",
      "15/15 [==============================] - 0s 10ms/step - loss: -9355.5176 - accuracy: 0.7084 - val_loss: -7997.5225 - val_accuracy: 0.7414\n",
      "Epoch 58/100\n",
      "15/15 [==============================] - 0s 10ms/step - loss: -9770.6309 - accuracy: 0.7084 - val_loss: -8352.7783 - val_accuracy: 0.7414\n",
      "Epoch 59/100\n",
      "15/15 [==============================] - 0s 10ms/step - loss: -10190.0020 - accuracy: 0.7084 - val_loss: -8733.9141 - val_accuracy: 0.7414\n",
      "Epoch 60/100\n",
      "15/15 [==============================] - 0s 10ms/step - loss: -10652.0566 - accuracy: 0.7084 - val_loss: -9098.2666 - val_accuracy: 0.7414\n",
      "Epoch 61/100\n",
      "15/15 [==============================] - 0s 10ms/step - loss: -11107.6270 - accuracy: 0.7084 - val_loss: -9488.4121 - val_accuracy: 0.7414\n",
      "Epoch 62/100\n",
      "15/15 [==============================] - 0s 10ms/step - loss: -11564.9414 - accuracy: 0.7084 - val_loss: -9901.8545 - val_accuracy: 0.7414\n",
      "Epoch 63/100\n",
      "15/15 [==============================] - 0s 10ms/step - loss: -12063.2490 - accuracy: 0.7084 - val_loss: -10302.6533 - val_accuracy: 0.7414\n",
      "Epoch 64/100\n",
      "15/15 [==============================] - 0s 10ms/step - loss: -12548.0889 - accuracy: 0.7084 - val_loss: -10720.6582 - val_accuracy: 0.7414\n",
      "Epoch 65/100\n",
      "15/15 [==============================] - 0s 10ms/step - loss: -13070.4365 - accuracy: 0.7084 - val_loss: -11134.8311 - val_accuracy: 0.7414\n",
      "Epoch 66/100\n",
      "15/15 [==============================] - 0s 10ms/step - loss: -13579.3369 - accuracy: 0.7084 - val_loss: -11592.8457 - val_accuracy: 0.7414\n",
      "Epoch 67/100\n",
      "15/15 [==============================] - 0s 10ms/step - loss: -14139.6924 - accuracy: 0.7084 - val_loss: -12038.9150 - val_accuracy: 0.7414\n",
      "Epoch 68/100\n",
      "15/15 [==============================] - 0s 10ms/step - loss: -14680.0303 - accuracy: 0.7084 - val_loss: -12525.0303 - val_accuracy: 0.7414\n",
      "Epoch 69/100\n",
      "15/15 [==============================] - 0s 10ms/step - loss: -15262.3809 - accuracy: 0.7084 - val_loss: -13001.0088 - val_accuracy: 0.7414\n",
      "Epoch 70/100\n",
      "15/15 [==============================] - 0s 10ms/step - loss: -15836.7959 - accuracy: 0.7084 - val_loss: -13501.7354 - val_accuracy: 0.7414\n",
      "Epoch 71/100\n",
      "15/15 [==============================] - 0s 10ms/step - loss: -16426.4609 - accuracy: 0.7084 - val_loss: -14013.7910 - val_accuracy: 0.7414\n",
      "Epoch 72/100\n",
      "15/15 [==============================] - 0s 11ms/step - loss: -17036.4453 - accuracy: 0.7084 - val_loss: -14512.6211 - val_accuracy: 0.7414\n",
      "Epoch 73/100\n",
      "15/15 [==============================] - 0s 10ms/step - loss: -17660.6914 - accuracy: 0.7084 - val_loss: -15025.3340 - val_accuracy: 0.7414\n",
      "Epoch 74/100\n",
      "15/15 [==============================] - 0s 10ms/step - loss: -18286.9961 - accuracy: 0.7084 - val_loss: -15566.0127 - val_accuracy: 0.7414\n",
      "Epoch 75/100\n",
      "15/15 [==============================] - 0s 10ms/step - loss: -18949.4160 - accuracy: 0.7084 - val_loss: -16124.5215 - val_accuracy: 0.7414\n",
      "Epoch 76/100\n",
      "15/15 [==============================] - 0s 10ms/step - loss: -19611.1465 - accuracy: 0.7084 - val_loss: -16702.4043 - val_accuracy: 0.7414\n",
      "Epoch 77/100\n",
      "15/15 [==============================] - 0s 10ms/step - loss: -20319.6035 - accuracy: 0.7084 - val_loss: -17272.2051 - val_accuracy: 0.7414\n",
      "Epoch 78/100\n",
      "15/15 [==============================] - 0s 10ms/step - loss: -20995.4883 - accuracy: 0.7084 - val_loss: -17889.5391 - val_accuracy: 0.7414\n",
      "Epoch 79/100\n",
      "15/15 [==============================] - 0s 11ms/step - loss: -21728.8203 - accuracy: 0.7084 - val_loss: -18480.5684 - val_accuracy: 0.7414\n",
      "Epoch 80/100\n",
      "15/15 [==============================] - 0s 10ms/step - loss: -22463.8340 - accuracy: 0.7084 - val_loss: -19069.7734 - val_accuracy: 0.7414\n",
      "Epoch 81/100\n",
      "15/15 [==============================] - 0s 11ms/step - loss: -23183.0957 - accuracy: 0.7084 - val_loss: -19723.9805 - val_accuracy: 0.7414\n",
      "Epoch 82/100\n",
      "15/15 [==============================] - 0s 10ms/step - loss: -23939.6562 - accuracy: 0.7084 - val_loss: -20379.3926 - val_accuracy: 0.7414\n",
      "Epoch 83/100\n",
      "15/15 [==============================] - 0s 10ms/step - loss: -24738.3223 - accuracy: 0.7084 - val_loss: -21003.1074 - val_accuracy: 0.7414\n",
      "Epoch 84/100\n",
      "15/15 [==============================] - 0s 10ms/step - loss: -25503.6758 - accuracy: 0.7084 - val_loss: -21655.5898 - val_accuracy: 0.7414\n",
      "Epoch 85/100\n",
      "15/15 [==============================] - 0s 10ms/step - loss: -26317.1777 - accuracy: 0.7084 - val_loss: -22333.9766 - val_accuracy: 0.7414\n",
      "Epoch 86/100\n",
      "15/15 [==============================] - 0s 11ms/step - loss: -27127.5508 - accuracy: 0.7084 - val_loss: -23032.6387 - val_accuracy: 0.7414\n",
      "Epoch 87/100\n",
      "15/15 [==============================] - 0s 10ms/step - loss: -27965.2871 - accuracy: 0.7084 - val_loss: -23732.0059 - val_accuracy: 0.7414\n",
      "Epoch 88/100\n",
      "15/15 [==============================] - 0s 10ms/step - loss: -28805.1602 - accuracy: 0.7084 - val_loss: -24447.7793 - val_accuracy: 0.7414\n",
      "Epoch 89/100\n",
      "15/15 [==============================] - 0s 10ms/step - loss: -29687.3105 - accuracy: 0.7084 - val_loss: -25151.5781 - val_accuracy: 0.7414\n",
      "Epoch 90/100\n",
      "15/15 [==============================] - 0s 10ms/step - loss: -30543.8359 - accuracy: 0.7084 - val_loss: -25949.7969 - val_accuracy: 0.7414\n",
      "Epoch 91/100\n",
      "15/15 [==============================] - 0s 10ms/step - loss: -31457.4629 - accuracy: 0.7084 - val_loss: -26723.9043 - val_accuracy: 0.7414\n",
      "Epoch 92/100\n",
      "15/15 [==============================] - 0s 11ms/step - loss: -32377.5918 - accuracy: 0.7084 - val_loss: -27488.9883 - val_accuracy: 0.7414\n",
      "Epoch 93/100\n",
      "15/15 [==============================] - 0s 10ms/step - loss: -33300.6406 - accuracy: 0.7084 - val_loss: -28263.0762 - val_accuracy: 0.7414\n",
      "Epoch 94/100\n",
      "15/15 [==============================] - 0s 10ms/step - loss: -34265.7539 - accuracy: 0.7084 - val_loss: -29044.1328 - val_accuracy: 0.7414\n",
      "Epoch 95/100\n",
      "15/15 [==============================] - 0s 10ms/step - loss: -35228.3789 - accuracy: 0.7084 - val_loss: -29820.1504 - val_accuracy: 0.7414\n",
      "Epoch 96/100\n",
      "15/15 [==============================] - 0s 10ms/step - loss: -36163.3047 - accuracy: 0.7084 - val_loss: -30681.0957 - val_accuracy: 0.7414\n",
      "Epoch 97/100\n",
      "15/15 [==============================] - 0s 11ms/step - loss: -37183.6445 - accuracy: 0.7084 - val_loss: -31529.3535 - val_accuracy: 0.7414\n",
      "Epoch 98/100\n",
      "15/15 [==============================] - 0s 10ms/step - loss: -38206.8594 - accuracy: 0.7084 - val_loss: -32369.5176 - val_accuracy: 0.7414\n",
      "Epoch 99/100\n",
      "15/15 [==============================] - 0s 10ms/step - loss: -39242.9844 - accuracy: 0.7084 - val_loss: -33225.8633 - val_accuracy: 0.7414\n",
      "Epoch 100/100\n",
      "15/15 [==============================] - 0s 10ms/step - loss: -40303.7812 - accuracy: 0.7084 - val_loss: -34144.8320 - val_accuracy: 0.7414\n"
     ]
    }
   ],
   "source": [
    "model.compile(optimizer='adam', loss='binary_crossentropy', metrics=['accuracy'])\n",
    "\n",
    "hist = model.fit(x_train, y_train, epochs=100, validation_data=(x_test,y_test))"
   ]
  },
  {
   "cell_type": "code",
   "execution_count": 30,
   "id": "8fd98128",
   "metadata": {
    "collapsed": true
   },
   "outputs": [
    {
     "data": {
      "image/png": "[encoded data removed]",
      "text/plain": [
       "<Figure size 640x480 with 1 Axes>"
      ]
     },
     "metadata": {},
     "output_type": "display_data"
    }
   ],
   "source": [
    "import matplotlib.pyplot as plt\n",
    "\n",
    "#Plotting\n",
    "plt.plot(hist.history['accuracy'], label='Train')\n",
    "plt.plot(hist.history['val_accuracy'], label='Test')\n",
    "plt.xlabel('Epoch')\n",
    "plt.ylabel('Accuracy')\n",
    "plt.legend()\n",
    "plt.show()"
   ]
  },
  {
   "cell_type": "code",
   "execution_count": 31,
   "id": "5a255aff",
   "metadata": {
    "collapsed": true
   },
   "outputs": [
    {
     "data": {
      "image/png": "[encoded data removed]",
      "text/plain": [
       "<Figure size 640x480 with 1 Axes>"
      ]
     },
     "metadata": {},
     "output_type": "display_data"
    }
   ],
   "source": [
    "plt.plot(hist.history['loss'], label='Train')\n",
    "plt.plot(hist.history['val_loss'], label='Test')\n",
    "plt.xlabel('Epoch')\n",
    "plt.ylabel('Loss')\n",
    "plt.legend()\n",
    "plt.show()"
   ]
  },
  {
   "cell_type": "code",
   "execution_count": 32,
   "id": "c88e7f9b",
   "metadata": {
    "collapsed": true
   },
   "outputs": [
    {
     "name": "stdout",
     "output_type": "stream",
     "text": [
      "Accuracy: 0.7084233164787292\n"
     ]
    }
   ],
   "source": [
    "print('Accuracy:', hist.history['accuracy'][-1])"
   ]
  }
 ],
 "metadata": {
  "kernelspec": {
   "display_name": "Python 3 (ipykernel)",
   "language": "python",
   "name": "python3"
  },
  "language_info": {
   "codemirror_mode": {
    "name": "ipython",
    "version": 3
   },
   "file_extension": ".py",
   "mimetype": "text/x-python",
   "name": "python",
   "nbconvert_exporter": "python",
   "pygments_lexer": "ipython3",
   "version": "3.8.15"
  }
 },
 "nbformat": 4,
 "nbformat_minor": 5
}
