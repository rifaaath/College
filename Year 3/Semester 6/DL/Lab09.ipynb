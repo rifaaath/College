{
 "cells": [
  {
   "cell_type": "code",
   "execution_count": 1,
   "id": "0b107219",
   "metadata": {},
   "outputs": [],
   "source": [
    "#Transfer Learning"
   ]
  },
  {
   "cell_type": "code",
   "execution_count": 4,
   "id": "2fbc02e9",
   "metadata": {},
   "outputs": [],
   "source": [
    "from keras.datasets import cifar10\n",
    "from keras.utils import to_categorical"
   ]
  },
  {
   "cell_type": "code",
   "execution_count": 3,
   "id": "e245c23a",
   "metadata": {},
   "outputs": [],
   "source": [
    "(x_train, y_train), (x_test, y_test) = cifar10.load_data()"
   ]
  },
  {
   "cell_type": "code",
   "execution_count": 5,
   "id": "e4477fe4",
   "metadata": {},
   "outputs": [],
   "source": [
    "x_train = x_train / 255.0\n",
    "x_test = x_test / 255.0\n",
    "\n",
    "y_train = to_categorical(y_train, 10)\n",
    "y_test = to_categorical(y_test, 10)"
   ]
  },
  {
   "cell_type": "code",
   "execution_count": 11,
   "id": "fa76bbdf",
   "metadata": {},
   "outputs": [],
   "source": [
    "from keras.applications import VGG16, VGG19, ResNet50\n",
    "\n",
    "v16 = VGG16(weights='imagenet', include_top=False, input_shape=(32, 32, 3))\n",
    "v19 = VGG19(weights='imagenet', include_top=False, input_shape=(32, 32, 3))\n",
    "r50 = ResNet50(weights='imagenet', include_top=False, input_shape=(32, 32, 3))"
   ]
  },
  {
   "cell_type": "code",
   "execution_count": 12,
   "id": "d087b1e1",
   "metadata": {},
   "outputs": [],
   "source": [
    "from keras.layers import GlobalAveragePooling2D as gap\n",
    "from keras.layers import Dense\n",
    "\n",
    "v16_op = gap()(v16.output)\n",
    "v16_op = Dense(10, activation='softmax')(v16_op)\n",
    "\n",
    "v19_op = gap()(v19.output)\n",
    "v19_op = Dense(10, activation='softmax')(v19_op)\n",
    "\n",
    "r50_op = gap()(r50.output)\n",
    "r50_op = Dense(10, activation='softmax')(r50_op)"
   ]
  },
  {
   "cell_type": "code",
   "execution_count": 14,
   "id": "8e70ad66",
   "metadata": {},
   "outputs": [],
   "source": [
    "from keras import Model\n",
    "\n",
    "v16_model = Model(inputs=v16.input, outputs=v16_op)\n",
    "v19_model = Model(inputs=v19.input, outputs=v19_op)\n",
    "r50_model = Model(inputs=r50.input, outputs=r50_op)"
   ]
  },
  {
   "cell_type": "code",
   "execution_count": 16,
   "id": "8f7d8500",
   "metadata": {},
   "outputs": [],
   "source": [
    "v16_model.compile(optimizer='adam', loss='categorical_crossentropy', metrics=['accuracy'])\n",
    "v19_model.compile(optimizer='adam', loss='categorical_crossentropy', metrics=['accuracy'])\n",
    "r50_model.compile(optimizer='adam', loss='categorical_crossentropy', metrics=['accuracy'])"
   ]
  },
  {
   "cell_type": "code",
   "execution_count": 17,
   "id": "80ae14b3",
   "metadata": {},
   "outputs": [
    {
     "name": "stderr",
     "output_type": "stream",
     "text": [
      "2023-05-15 18:21:43.875727: W tensorflow/core/platform/profile_utils/cpu_utils.cc:128] Failed to get CPU frequency: 0 Hz\n",
      "2023-05-15 18:21:43.995517: I tensorflow/core/grappler/optimizers/custom_graph_optimizer_registry.cc:113] Plugin optimizer for device_type GPU is enabled.\n"
     ]
    },
    {
     "name": "stdout",
     "output_type": "stream",
     "text": [
      "313/313 [==============================] - 6s 16ms/step - loss: 2.5246 - accuracy: 0.1075\n",
      "  1/313 [..............................] - ETA: 1:26 - loss: 2.4685 - accuracy: 0.0000e+00"
     ]
    },
    {
     "name": "stderr",
     "output_type": "stream",
     "text": [
      "2023-05-15 18:21:50.023000: I tensorflow/core/grappler/optimizers/custom_graph_optimizer_registry.cc:113] Plugin optimizer for device_type GPU is enabled.\n"
     ]
    },
    {
     "name": "stdout",
     "output_type": "stream",
     "text": [
      "313/313 [==============================] - 6s 18ms/step - loss: 2.4931 - accuracy: 0.1135\n"
     ]
    },
    {
     "name": "stderr",
     "output_type": "stream",
     "text": [
      "2023-05-15 18:21:56.234145: I tensorflow/core/grappler/optimizers/custom_graph_optimizer_registry.cc:113] Plugin optimizer for device_type GPU is enabled.\n"
     ]
    },
    {
     "name": "stdout",
     "output_type": "stream",
     "text": [
      "313/313 [==============================] - 12s 29ms/step - loss: 3.1225 - accuracy: 0.0844\n",
      "VGG16 Accuracy: 0.10750000178813934\n",
      "VGG19 Accuracy: 0.11349999904632568\n",
      "ResNet50 Accuracy: 0.0843999981880188\n"
     ]
    }
   ],
   "source": [
    "v16_loss, v16_acc = v16_model.evaluate(x_test, y_test)\n",
    "v19_loss, v19_acc = v19_model.evaluate(x_test, y_test)\n",
    "r50_loss, r50_acc = r50_model.evaluate(x_test, y_test)\n",
    "\n",
    "print(\"VGG16 Accuracy:\", v16_acc)\n",
    "print(\"VGG19 Accuracy:\", v19_acc)\n",
    "print(\"ResNet50 Accuracy:\", r50_acc)"
   ]
  }
 ],
 "metadata": {
  "kernelspec": {
   "display_name": "Python 3 (ipykernel)",
   "language": "python",
   "name": "python3"
  },
  "language_info": {
   "codemirror_mode": {
    "name": "ipython",
    "version": 3
   },
   "file_extension": ".py",
   "mimetype": "text/x-python",
   "name": "python",
   "nbconvert_exporter": "python",
   "pygments_lexer": "ipython3",
   "version": "3.8.15"
  }
 },
 "nbformat": 4,
 "nbformat_minor": 5
}
