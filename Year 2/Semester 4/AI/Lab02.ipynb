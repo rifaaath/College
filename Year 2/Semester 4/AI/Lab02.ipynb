{
 "cells": [
  {
   "cell_type": "code",
   "execution_count": 26,
   "id": "6947b255",
   "metadata": {},
   "outputs": [],
   "source": [
    "graph = {\n",
    "    1:[2,3],\n",
    "    2:[4],\n",
    "    3:[5],\n",
    "    4:[5],\n",
    "    5:[],\n",
    "}\n",
    "v=[]"
   ]
  },
  {
   "cell_type": "code",
   "execution_count": 37,
   "id": "a94a36c8",
   "metadata": {},
   "outputs": [],
   "source": [
    "def bfs(n):\n",
    "    v.append(n)\n",
    "    q.append(n)\n",
    "    while q:\n",
    "        m = q.pop(0)\n",
    "        print(m,end= ' ')\n",
    "        for i in graph[m]:\n",
    "            if i not in v:\n",
    "                q.append(i)\n",
    "                v.append(i)\n",
    "    "
   ]
  },
  {
   "cell_type": "code",
   "execution_count": 42,
   "id": "8bafaa5d",
   "metadata": {},
   "outputs": [
    {
     "name": "stdout",
     "output_type": "stream",
     "text": [
      "1 2 3 4 5 "
     ]
    }
   ],
   "source": [
    "bfs(1)"
   ]
  }
 ],
 "metadata": {
  "kernelspec": {
   "display_name": "Python 3 (ipykernel)",
   "language": "python",
   "name": "python3"
  },
  "language_info": {
   "codemirror_mode": {
    "name": "ipython",
    "version": 3
   },
   "file_extension": ".py",
   "mimetype": "text/x-python",
   "name": "python",
   "nbconvert_exporter": "python",
   "pygments_lexer": "ipython3",
   "version": "3.8.13"
  }
 },
 "nbformat": 4,
 "nbformat_minor": 5
}
