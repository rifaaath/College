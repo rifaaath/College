{
 "cells": [
  {
   "cell_type": "code",
   "execution_count": 26,
   "id": "6947b255",
   "metadata": {},
   "outputs": [],
   "source": [
    "graph = {\n",
    "    1:[2,3],\n",
    "    2:[4],\n",
    "    3:[5],\n",
    "    4:[5],\n",
    "    5:[],\n",
    "}\n",
    "v=[]"
   ]
  },
  {
   "cell_type": "code",
   "execution_count": 59,
   "id": "09fb0828",
   "metadata": {},
   "outputs": [],
   "source": [
    "def dfs(n):\n",
    "    if n not in v:\n",
    "        print(n, end=' ')\n",
    "        v.append(n)\n",
    "        for i in graph[n]:\n",
    "            dfs(i)"
   ]
  },
  {
   "cell_type": "code",
   "execution_count": 60,
   "id": "780e3b0e",
   "metadata": {},
   "outputs": [
    {
     "name": "stdout",
     "output_type": "stream",
     "text": [
      "1 2 4 5 3 "
     ]
    }
   ],
   "source": [
    "dfs(1)"
   ]
  }
 ],
 "metadata": {
  "kernelspec": {
   "display_name": "Python 3 (ipykernel)",
   "language": "python",
   "name": "python3"
  },
  "language_info": {
   "codemirror_mode": {
    "name": "ipython",
    "version": 3
   },
   "file_extension": ".py",
   "mimetype": "text/x-python",
   "name": "python",
   "nbconvert_exporter": "python",
   "pygments_lexer": "ipython3",
   "version": "3.8.13"
  }
 },
 "nbformat": 4,
 "nbformat_minor": 5
}
